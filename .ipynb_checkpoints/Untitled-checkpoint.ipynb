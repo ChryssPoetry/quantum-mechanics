{
 "cells": [
  {
   "cell_type": "code",
   "execution_count": null,
   "id": "50f3dce7-76e1-4494-9f8f-b2401c6db514",
   "metadata": {},
   "outputs": [],
   "source": []
  }
 ],
 "metadata": {
  "kernelspec": {
   "display_name": "",
   "name": ""
  },
  "language_info": {
   "name": ""
  }
 },
 "nbformat": 4,
 "nbformat_minor": 5
}
